{
  "cells": [
    {
      "cell_type": "code",
      "execution_count": 5,
      "metadata": {
        "id": "WET-G7W4iemr"
      },
      "outputs": [],
      "source": [
        "import pandas as pd\n",
        "adult_data = pd.read_csv(\"train_data.csv\")\n",
        "adult_data_test = pd.read_csv(\"test_data.csv\")"
      ]
    },
    {
      "cell_type": "code",
      "execution_count": 6,
      "metadata": {
        "id": "XBLaK-jIrQrR"
      },
      "outputs": [],
      "source": [
        "from tensorflow import feature_column"
      ]
    },
    {
      "cell_type": "code",
      "execution_count": 33,
      "metadata": {
        "id": "KLtoZukQfDBD"
      },
      "outputs": [],
      "source": [
        "from sklearn.preprocessing import OneHotEncoder\n",
        "import numpy as np"
      ]
    },
    {
      "cell_type": "code",
      "source": [
        "cat_train = adult_data.iloc[:,[2,4,6,7,8,9,10,14]]\n",
        "cat_test = adult_data_test.iloc[:,[2,4,6,7,8,9,10,14]]\n",
        "frames = [cat_train, cat_test]\n",
        "data_cat = pd.concat(frames) #categoric data of both datasets"
      ],
      "metadata": {
        "id": "qjgGO1wwLRGr"
      },
      "execution_count": 98,
      "outputs": []
    },
    {
      "cell_type": "code",
      "source": [
        "def cat_onehot(data, train='true'):\n",
        "  #data_cat = data.iloc[:,[2,4,6,7,8,9,10,14]]\n",
        "  cat_encoder = OneHotEncoder()\n",
        "  data_1hot = cat_encoder.fit_transform(data_cat)\n",
        "  hold = pd.DataFrame(data_1hot.toarray())\n",
        "  data_holder = data.iloc[:,[1,3,5,11,12,13]]\n",
        "\n",
        "  almost_there = data_holder.join(hold)  \n",
        "\n",
        "  if(train=='true'):\n",
        "    there = almost_there.join(data.iloc[:,[15]])\n",
        "\n",
        "    # In the original dataset \">50K\" indicates 0.\n",
        "    there['target'] = np.where(there['income']=='>50K', 0, 1)\n",
        "\n",
        "    # Drop un-used columns.\n",
        "    there = there.drop(columns=['income']) \n",
        "  else:\n",
        "    there = almost_there\n",
        "\n",
        "  return there"
      ],
      "metadata": {
        "id": "WogwSScUBNRJ"
      },
      "execution_count": 85,
      "outputs": []
    },
    {
      "cell_type": "code",
      "source": [
        "input_df = cat_onehot(adult_data)"
      ],
      "metadata": {
        "id": "D-cQYK5QDMON"
      },
      "execution_count": 93,
      "outputs": []
    },
    {
      "cell_type": "code",
      "source": [
        "target_df = input_df['target']\n",
        "input_df = input_df.drop(columns=['target'])"
      ],
      "metadata": {
        "id": "nYiUpcqJJBp4"
      },
      "execution_count": 94,
      "outputs": []
    },
    {
      "cell_type": "code",
      "execution_count": 18,
      "metadata": {
        "id": "TF2ud0Ix0DFj"
      },
      "outputs": [],
      "source": [
        "import tensorflow as tf\n",
        "from tensorflow import keras"
      ]
    },
    {
      "cell_type": "code",
      "source": [
        "nrmlzr = keras.layers.Normalization()\n",
        "nrmlzr.adapt(input_df)"
      ],
      "metadata": {
        "id": "glXITVPG90DC"
      },
      "execution_count": 56,
      "outputs": []
    },
    {
      "cell_type": "code",
      "execution_count": 57,
      "metadata": {
        "colab": {
          "base_uri": "https://localhost:8080/"
        },
        "id": "1y2tFJNS0WfJ",
        "outputId": "cb365ab2-f152-4b20-bf19-30c80a775f45"
      },
      "outputs": [
        {
          "output_type": "stream",
          "name": "stdout",
          "text": [
            "Model: \"sequential_1\"\n",
            "_________________________________________________________________\n",
            " Layer (type)                Output Shape              Param #   \n",
            "=================================================================\n",
            " flatten_1 (Flatten)         (None, 108)               0         \n",
            "                                                                 \n",
            " normalization_2 (Normalizat  (None, 108)              217       \n",
            " ion)                                                            \n",
            "                                                                 \n",
            " dense_3 (Dense)             (None, 60)                6540      \n",
            "                                                                 \n",
            " dropout_2 (Dropout)         (None, 60)                0         \n",
            "                                                                 \n",
            " activation_2 (Activation)   (None, 60)                0         \n",
            "                                                                 \n",
            " dense_4 (Dense)             (None, 20)                1220      \n",
            "                                                                 \n",
            " dropout_3 (Dropout)         (None, 20)                0         \n",
            "                                                                 \n",
            " activation_3 (Activation)   (None, 20)                0         \n",
            "                                                                 \n",
            " dense_5 (Dense)             (None, 1)                 21        \n",
            "                                                                 \n",
            "=================================================================\n",
            "Total params: 7,998\n",
            "Trainable params: 7,781\n",
            "Non-trainable params: 217\n",
            "_________________________________________________________________\n"
          ]
        }
      ],
      "source": [
        "model = keras.models.Sequential()\n",
        "model.add(keras.layers.Flatten(input_shape=[108]))\n",
        "\n",
        "model.add(nrmlzr)\n",
        "\n",
        "#1st fully connected Neural Network hidden-layer\n",
        "model.add(keras.layers.Dense(60))\n",
        "model.add(keras.layers.Dropout(0.1))\n",
        "model.add(keras.layers.Activation('sigmoid'))\n",
        "\n",
        "#2nd fully connected Neural Network hidden-layer\n",
        "model.add(keras.layers.Dense(20))\n",
        "model.add(keras.layers.Dropout(0.1))\n",
        "model.add(keras.layers.Activation('relu'))\n",
        "\n",
        "#Output layer\n",
        "model.add(keras.layers.Dense(1, activation=\"sigmoid\"))\n",
        "model.summary()"
      ]
    },
    {
      "cell_type": "code",
      "execution_count": 112,
      "metadata": {
        "id": "zySYXGE80fYB"
      },
      "outputs": [],
      "source": [
        "model.compile(loss=\"binary_crossentropy\", optimizer=\"adam\", metrics=[\"accuracy\"])\n",
        "epch = 20"
      ]
    },
    {
      "cell_type": "code",
      "source": [
        "from sklearn.model_selection import train_test_split, cross_val_score"
      ],
      "metadata": {
        "id": "-0R_Tc4qKCTC"
      },
      "execution_count": 113,
      "outputs": []
    },
    {
      "cell_type": "code",
      "source": [
        "X_train, X_test, Y_train, Y_test = train_test_split(input_df, target_df, test_size=0.2, random_state=66) #save a small part of the train dataset to verify accuracy\n",
        "X_train, X_val, Y_train, Y_val = train_test_split(X_train, Y_train, test_size=0.2, random_state=66) #split the train dataset in train and validation\n",
        "print(len(Y_train), 'train examples')\n",
        "print(len(Y_val), 'validation examples')\n",
        "print(len(Y_test), 'test examples')"
      ],
      "metadata": {
        "colab": {
          "base_uri": "https://localhost:8080/"
        },
        "id": "If_Sq0seI7L1",
        "outputId": "f4434126-1872-458d-d082-0f20e492a31a"
      },
      "execution_count": 114,
      "outputs": [
        {
          "output_type": "stream",
          "name": "stdout",
          "text": [
            "20838 train examples\n",
            "5210 validation examples\n",
            "6512 test examples\n"
          ]
        }
      ]
    },
    {
      "cell_type": "code",
      "execution_count": null,
      "metadata": {
        "id": "BjqybInd0g8v"
      },
      "outputs": [],
      "source": [
        "history = model.fit(X_train, Y_train, epochs=epch, validation_data=(X_val, Y_val), shuffle=True)"
      ]
    },
    {
      "cell_type": "code",
      "execution_count": 27,
      "metadata": {
        "id": "FljDQPj5DbIJ"
      },
      "outputs": [],
      "source": [
        "from sklearn.metrics import confusion_matrix\n",
        "from sklearn.metrics import roc_curve\n",
        "import seaborn as sns"
      ]
    },
    {
      "cell_type": "code",
      "execution_count": 28,
      "metadata": {
        "id": "Ljsn6OxWDfha"
      },
      "outputs": [],
      "source": [
        "import matplotlib.pyplot as plt\n",
        "def plot_roc_curve(fpr, tpr, label=None):\n",
        "  plt.plot(fpr, tpr, linewidth=2, label=label)\n",
        "  plt.plot([0, 1], [0, 1], 'k--') # Dashed diagonal"
      ]
    },
    {
      "cell_type": "code",
      "execution_count": 117,
      "metadata": {
        "colab": {
          "base_uri": "https://localhost:8080/",
          "height": 265
        },
        "id": "VJsl86wGDTum",
        "outputId": "25815705-f4d7-46fd-dbba-97614aed8867"
      },
      "outputs": [
        {
          "output_type": "display_data",
          "data": {
            "text/plain": [
              "<Figure size 432x288 with 1 Axes>"
            ],
            "image/png": "[encoded data removed]"
          },
          "metadata": {
            "needs_background": "light"
          }
        }
      ],
      "source": [
        "y_proba = model.predict(X_test)\n",
        "fpr, tpr, thresholds = roc_curve(Y_test,y_proba)\n",
        "plot_roc_curve(fpr, tpr)\n",
        "plt.show()"
      ]
    },
    {
      "cell_type": "code",
      "execution_count": 118,
      "metadata": {
        "colab": {
          "base_uri": "https://localhost:8080/"
        },
        "id": "kCq1bw-gDiy0",
        "outputId": "9255c5f3-e64b-4e3c-c006-ee79d0e9edc2"
      },
      "outputs": [
        {
          "output_type": "execute_result",
          "data": {
            "text/plain": [
              "0.8929878102777569"
            ]
          },
          "metadata": {},
          "execution_count": 118
        }
      ],
      "source": [
        "from sklearn.metrics import roc_auc_score\n",
        "roc_auc_score(Y_test, y_proba)"
      ]
    },
    {
      "cell_type": "code",
      "source": [
        "cf = confusion_matrix(Y_test, np.round(y_proba))\n",
        "ax = plt.subplots()\n",
        "ax = sns.heatmap(cf/np.sum(cf), annot=True, fmt='.2%', cmap='Blues')\n",
        "ax.set_title('Confusion matrix\\n\\n');\n",
        "ax.xaxis.set_ticklabels(['True','False'])\n",
        "ax.yaxis.set_ticklabels(['True','False'])\n",
        "plt.show()"
      ],
      "metadata": {
        "colab": {
          "base_uri": "https://localhost:8080/",
          "height": 311
        },
        "id": "HMdXjtBuAmTY",
        "outputId": "a12b4c0d-32fe-4ed2-a642-43eaea130cb5"
      },
      "execution_count": 119,
      "outputs": [
        {
          "output_type": "display_data",
          "data": {
            "text/plain": [
              "<Figure size 432x288 with 2 Axes>"
            ],
            "image/png": "[encoded data removed]"
          },
          "metadata": {
            "needs_background": "light"
          }
        }
      ]
    },
    {
      "cell_type": "code",
      "source": [
        "test_df = cat_onehot(adult_data_test, train='false')\n",
        "test_prob = model.predict(test_df)"
      ],
      "metadata": {
        "id": "sSSYDIMtH3Ig"
      },
      "execution_count": 120,
      "outputs": []
    },
    {
      "cell_type": "code",
      "source": [
        "tid = adult_data_test['Id'].to_numpy() \n",
        "\n",
        "import csv\n",
        "\n",
        "def create_otp(result, name='result.csv'):\n",
        "  header = ['Id', 'income']\n",
        "\n",
        "  rm = result[:, 0]\n",
        "\n",
        "  with open(name, 'w') as file:\n",
        "    writer = csv.writer(file)    \n",
        "    writer.writerow(header)\n",
        "\n",
        "    for i in range(rm.shape[0]): \n",
        "      if(rm[i]>=0.5):\n",
        "        rr = '<=50K'\n",
        "      else:\n",
        "        rr = '>50K'\n",
        "      l = str(tid[i]) + '-' + rr\n",
        "      entries = l.split('-')         \n",
        "      writer.writerow(entries)\n"
      ],
      "metadata": {
        "id": "c_X4WHMKN4LA"
      },
      "execution_count": 109,
      "outputs": []
    },
    {
      "cell_type": "code",
      "source": [
        "create_otp(test_prob,name='Adult-PMR3508_One_Hot_encoded_and_normalized.csv')"
      ],
      "metadata": {
        "id": "r6TenXo6PqVl"
      },
      "execution_count": 121,
      "outputs": []
    }
  ],
  "metadata": {
    "colab": {
      "provenance": [],
      "collapsed_sections": []
    },
    "kernelspec": {
      "display_name": "Python 3",
      "name": "python3"
    },
    "language_info": {
      "name": "python"
    }
  },
  "nbformat": 4,
  "nbformat_minor": 0
}